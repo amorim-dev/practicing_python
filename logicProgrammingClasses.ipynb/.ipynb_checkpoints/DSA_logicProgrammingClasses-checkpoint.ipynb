{
 "cells": [
  {
   "cell_type": "markdown",
   "metadata": {},
   "source": [
    "# <font color='green'>Introduction to Programming Logic</font>"
   ]
  },
  {
   "cell_type": "markdown",
   "metadata": {},
   "source": [
    "## Fibonacci Sequence"
   ]
  },
  {
   "cell_type": "markdown",
   "metadata": {},
   "source": [
    "The sequence was named after the Italian mathematician Leonardo of Pisa, better known as Fibonacci, who described, in the year 1202, the growth of a rabbit population from this sequence. This sequence, however, was already known in ancient times. The Fibonacci sequence has applications in financial market analysis, computer science, and game theory. \n",
    "\n",
    "The Fibonacci numbers are, therefore, the numbers that make up the following sequence: \n",
    "> **0,1, 1, 2, 3, 5, 8, 13, 21, 34, 55, 89, 144, 233, 377, 610, 987, 1597, 2584, ...**\n",
    "\n",
    "In mathematical terms, the sequence is defined recursively by the formula below: \n",
    "> **Fn = Fn-1 + Fn-2**"
   ]
  },
  {
   "cell_type": "markdown",
   "metadata": {},
   "source": [
    "### Lesson 1 - Python function to find the value at any position in the Fibonacci Sequence"
   ]
  },
  {
   "cell_type": "markdown",
   "metadata": {},
   "source": [
    "**Pseudocode**\n",
    "1. Set the variable n (index) that represents the position of the number in the Fibonacci Sequence\n",
    "2. If n is less then 0 or 0, the value is invalid, since the Fibonacci Sequence has no value in negative position.\n",
    "3. If n is not less then 0, we check if n is equal to 1. If n is equal to 1 we return 0, because this is the first value in the Fibonacci Sequence.\n",
    "4. If n is not equal to 1, we check if n is equal to 2. If the n is equal to 2 we return 1, because this is the second value in the Fibonacci Sequence.\n",
    "5. If n is not in any of the previous conditions, we can find the value of the position n by applying the formula: Fn = Fn-1 + Fn-2.\n",
    "6. **Since in the step 5 we have to calculate all the numbers in the Fibonacci Sequence up to the position n, we have to appy recursion.**"
   ]
  },
  {
   "cell_type": "code",
   "execution_count": 15,
   "metadata": {},
   "outputs": [
    {
     "name": "stdout",
     "output_type": "stream",
     "text": [
      "CPU times: user 15 µs, sys: 2 µs, total: 17 µs\n",
      "Wall time: 20 µs\n"
     ]
    },
    {
     "data": {
      "text/plain": [
       "21"
      ]
     },
     "execution_count": 15,
     "metadata": {},
     "output_type": "execute_result"
    }
   ],
   "source": [
    "%%time\n",
    "# find the value with iteration\n",
    "def fibonacci(idx):\n",
    "    seq = [0, 1]\n",
    "    for i in range(idx):\n",
    "        seq.append(seq[-1]+seq[-2])\n",
    "    return seq[-2]\n",
    "\n",
    "fibonacci(8)"
   ]
  },
  {
   "cell_type": "code",
   "execution_count": 13,
   "metadata": {},
   "outputs": [
    {
     "name": "stdout",
     "output_type": "stream",
     "text": [
      "CPU times: user 17 µs, sys: 2 µs, total: 19 µs\n",
      "Wall time: 22.4 µs\n"
     ]
    },
    {
     "data": {
      "text/plain": [
       "21"
      ]
     },
     "execution_count": 13,
     "metadata": {},
     "output_type": "execute_result"
    }
   ],
   "source": [
    "%%time\n",
    "# find the value with recursion\n",
    "def findFibonacci(n):\n",
    "    if n < 0:\n",
    "        print(\"Incorrect input!\")\n",
    "    elif n == 0:\n",
    "        return 0\n",
    "    elif n == 1:\n",
    "        return 1\n",
    "    else:\n",
    "        return findFibonacci(n-1) + findFibonacci(n-2)\n",
    "    \n",
    "findFibonacci(8)"
   ]
  },
  {
   "cell_type": "code",
   "execution_count": 9,
   "metadata": {},
   "outputs": [
    {
     "name": "stdout",
     "output_type": "stream",
     "text": [
      "3\n"
     ]
    }
   ],
   "source": [
    "# Executa a função para a posição 5\n",
    "print(findFibonacci(5))"
   ]
  },
  {
   "cell_type": "code",
   "execution_count": null,
   "metadata": {},
   "outputs": [],
   "source": [
    "# Executa a função para a posição 21\n",
    "print(encontraFibonacci(21))"
   ]
  },
  {
   "cell_type": "code",
   "execution_count": null,
   "metadata": {},
   "outputs": [],
   "source": [
    "# Executa a função para a posição 32\n",
    "print(encontraFibonacci(32))"
   ]
  },
  {
   "cell_type": "markdown",
   "metadata": {},
   "source": [
    "Here we used **recursion** that is when the function called itself. But recursion is not the only way to solve this problem.  We could use Dynamic Programming or Spatial Optimization, as I will show in the next lessons.  "
   ]
  },
  {
   "cell_type": "markdown",
   "metadata": {},
   "source": [
    "### Other examples of recursive functions"
   ]
  },
  {
   "cell_type": "code",
   "execution_count": 16,
   "metadata": {},
   "outputs": [
    {
     "name": "stdout",
     "output_type": "stream",
     "text": [
      "5\n",
      "4\n",
      "3\n",
      "2\n",
      "1\n",
      "0\n",
      "Happy New Year!\n",
      "Order: 0\n",
      "Order: 1\n",
      "Order: 2\n",
      "Order: 3\n",
      "Order: 4\n",
      "Order: 5\n"
     ]
    }
   ],
   "source": [
    "# Countdown\n",
    "def countdown(num):\n",
    "    print(num)\n",
    "    if num > 0:\n",
    "        countdown(num-1)\n",
    "    else:\n",
    "        print('Happy New Year!')\n",
    "        \n",
    "    # To see what is happening in memory\n",
    "    print(f\"Order: {num}\")\n",
    "\n",
    "countdown(5)"
   ]
  },
  {
   "cell_type": "markdown",
   "metadata": {},
   "source": [
    "Intel processors do not keep data in memory in the order you would expect. Instead the data is reverse stored. And only then the data is shown to us. It's like a stack, the last element in is the first element out."
   ]
  },
  {
   "cell_type": "code",
   "execution_count": 17,
   "metadata": {},
   "outputs": [
    {
     "name": "stdout",
     "output_type": "stream",
     "text": [
      "Order: 1\n",
      "Order: 2\n",
      "Order: 6\n",
      "6\n"
     ]
    }
   ],
   "source": [
    "# Factorial\n",
    "def calculate_factorial(num):\n",
    "    if num > 1: \n",
    "        num *= calculate_factorial(num - 1)\n",
    "    \n",
    "    # To see what is happening in memory\n",
    "    print(f\"Order: {num}\")\n",
    "    return num\n",
    "\n",
    "print(calculate_factorial(3))"
   ]
  },
  {
   "cell_type": "code",
   "execution_count": 26,
   "metadata": {},
   "outputs": [
    {
     "name": "stdout",
     "output_type": "stream",
     "text": [
      "16\n",
      "14\n",
      "12\n",
      "10\n",
      "8\n",
      "6\n",
      "4\n",
      "2\n"
     ]
    },
    {
     "data": {
      "text/plain": [
       "2"
      ]
     },
     "execution_count": 26,
     "metadata": {},
     "output_type": "execute_result"
    }
   ],
   "source": [
    "# Write all the positive even numbers samller or equal 8\n",
    "def evenNums(num):\n",
    "    print(num)\n",
    "    if num % 2 != 0:\n",
    "        print(\"please enter an even number\")\n",
    "    elif num == 2:\n",
    "        return num\n",
    "    else:\n",
    "        return evenNums(num - 2)\n",
    "    \n",
    "evenNums(16)"
   ]
  },
  {
   "cell_type": "markdown",
   "metadata": {},
   "source": [
    "### Aula 2 - Function to print all Fibonacci Sequence values up to a specific position. "
   ]
  },
  {
   "cell_type": "markdown",
   "metadata": {},
   "source": [
    "**Pseudocode**\n",
    "1. Set the variable n to be the desired position in the FS (Fibonacci Sequence).\n",
    "2. Set the variable n1 to the value of the first position in the FS.\n",
    "3. Set the variable n2 to the value of the second position in the FS.\n",
    "4. Define and initialize the variable count to serve as a counter, to know when we reach the end of the FS to the value of n.\n",
    "5. If the value of n is less than zero, print a message on the screen indicating that n can't be negative, because we don't have a negative position in the FS.\n",
    "6. If n is equal to 1, print n1.\n",
    "\n",
    "7. Otherwise, we repeat the steps below as long as count is less than n:\n",
    "    1. print n1 on the screen.\n",
    "    2. add n1 with n2 to get the next value.\n",
    "    3. Variable n1 receives the value of variable n2.\n",
    "    4. Variable n2 receives the value calculated in 7.2.\n",
    "    5. increments the counter\n",
    "    \n",
    "**Note**: We will not use a function in this example and we recommend that you save the code in a text file with a **.py** extension and then execute it in a terminal using \n",
    "> python file_name.py"
   ]
  },
  {
   "cell_type": "code",
   "execution_count": 29,
   "metadata": {},
   "outputs": [
    {
     "name": "stdout",
     "output_type": "stream",
     "text": [
      "Fibonacci sequence up to 10 :\n",
      "0, 1, 1, 2, 3, 5, 8, 13, 21, 34, "
     ]
    }
   ],
   "source": [
    "# Program to display the Fibonacci Sequence up to the nth term, where n is given by the user.\n",
    "\n",
    "# 1. Set the variable n to be the desired position in the FS.\n",
    "n = 10\n",
    "\n",
    "# 2. Set the variable n1 to the value of the first position in the FS.\n",
    "n1 = 0\n",
    "\n",
    "# 3. Set the variable n2 to the value of the second position in the FS.\n",
    "n2 = 1\n",
    "\n",
    "# 4. Set and initialize the variable count to serve as a counter, to know when we have reached the end of FS to the value of n.\n",
    "count = 0\n",
    "\n",
    "# 5. If the value of n is less than zero, print a message on the screen indicating that n cannot be negative, because we have no negative position in FS.\n",
    "if n < 0:\n",
    "    print(\"The position cannot be negative\")\n",
    "\n",
    "# 6. Otherwise, if n is equal to 1, print n1.   \n",
    "elif n == 1:\n",
    "    print(\"Fibonacci sequence up to \", n, \":\")\n",
    "    print(n1)\n",
    "\n",
    "# 7. Otherwise, we repeat the steps below as long as count is less than n: \n",
    "else:\n",
    "    print(\"Fibonacci sequence up to\", n, \":\")\n",
    "    while count < n:\n",
    "\n",
    "        # 7.1. Prints n1 on the screen.\n",
    "        print(n1, end = ', ')\n",
    "       \n",
    "        # 7.2. Sum n1 with n2 to get the next value.\n",
    "        nth = n1 + n2\n",
    "       \n",
    "        # 7.3. Variable n1 receives the value of variable n2.\n",
    "        n1 = n2\n",
    "\n",
    "        # 7.4. Variable n2 receives the value calculated in 7.2\n",
    "        n2 = nth\n",
    "\n",
    "        # 7.5. Increments the counter.\n",
    "        count += 1"
   ]
  },
  {
   "cell_type": "markdown",
   "metadata": {},
   "source": [
    "### Aula 3 - Programming with functions"
   ]
  },
  {
   "cell_type": "markdown",
   "metadata": {},
   "source": [
    "#### Given two numbers, find the larger of them.\n",
    "\n",
    "**Pseudocode**\n",
    "1. Read two numbers, represented by the variables a and b.\n",
    "2. If a is greater than b, return a as greater.\n",
    "3. If not, return b."
   ]
  },
  {
   "cell_type": "code",
   "execution_count": 31,
   "metadata": {},
   "outputs": [],
   "source": [
    "# Function\n",
    "def find_max2(a, b):\n",
    "    if a > b:\n",
    "        return a\n",
    "    else:\n",
    "        return b"
   ]
  },
  {
   "cell_type": "code",
   "execution_count": 32,
   "metadata": {},
   "outputs": [
    {
     "data": {
      "text/plain": [
       "9"
      ]
     },
     "execution_count": 32,
     "metadata": {},
     "output_type": "execute_result"
    }
   ],
   "source": [
    "# Running the function\n",
    "find_max2(8, 9)"
   ]
  },
  {
   "cell_type": "code",
   "execution_count": 33,
   "metadata": {},
   "outputs": [
    {
     "data": {
      "text/plain": [
       "10"
      ]
     },
     "execution_count": 33,
     "metadata": {},
     "output_type": "execute_result"
    }
   ],
   "source": [
    "# Running the function\n",
    "find_max2(10, 9)"
   ]
  },
  {
   "cell_type": "markdown",
   "metadata": {},
   "source": [
    "#### Given 3 numbers, find the larger of them.\n",
    "\n",
    "**Pseudocode**\n",
    "1. Read three numbers, represented by the variables a, b and c.\n",
    "2. If a is greater than b and c, return a as greater.\n",
    "3. If b is greater than a and c, return b as greater.\n",
    "4. If not, return c."
   ]
  },
  {
   "cell_type": "code",
   "execution_count": null,
   "metadata": {},
   "outputs": [],
   "source": [
    "# Function\n",
    "def find_max3(a, b, c):\n",
    "    if a > b and a > c:\n",
    "        print(a)\n",
    "    elif b > a and b > c:\n",
    "        print(b)\n",
    "    else:\n",
    "        print(c)"
   ]
  },
  {
   "cell_type": "code",
   "execution_count": null,
   "metadata": {},
   "outputs": [],
   "source": [
    "# Running the function\n",
    "find_max3(8, 9, 10)"
   ]
  },
  {
   "cell_type": "code",
   "execution_count": null,
   "metadata": {},
   "outputs": [],
   "source": [
    "# Running the function\n",
    "find_max3(10, 9, 8)"
   ]
  },
  {
   "cell_type": "code",
   "execution_count": null,
   "metadata": {},
   "outputs": [],
   "source": [
    "# Running the function\n",
    "find_max3(8, 10, 9)"
   ]
  },
  {
   "cell_type": "code",
   "execution_count": 34,
   "metadata": {},
   "outputs": [],
   "source": [
    "# We can also do it using the previous function\n",
    "def find_max3_v2(a, b, c):\n",
    "    if a < b:\n",
    "        return find_max2(b, c)\n",
    "    else:\n",
    "        return find_max2(a, c)"
   ]
  },
  {
   "cell_type": "code",
   "execution_count": 35,
   "metadata": {},
   "outputs": [
    {
     "data": {
      "text/plain": [
       "10"
      ]
     },
     "execution_count": 35,
     "metadata": {},
     "output_type": "execute_result"
    }
   ],
   "source": [
    "# Running the function\n",
    "find_max3_v2(8, 9, 10)"
   ]
  },
  {
   "cell_type": "code",
   "execution_count": 36,
   "metadata": {},
   "outputs": [
    {
     "data": {
      "text/plain": [
       "10"
      ]
     },
     "execution_count": 36,
     "metadata": {},
     "output_type": "execute_result"
    }
   ],
   "source": [
    "# Running the function\n",
    "find_max3_v2(10, 9, 8)"
   ]
  },
  {
   "cell_type": "code",
   "execution_count": 38,
   "metadata": {},
   "outputs": [
    {
     "data": {
      "text/plain": [
       "10"
      ]
     },
     "execution_count": 38,
     "metadata": {},
     "output_type": "execute_result"
    }
   ],
   "source": [
    "# Running the function\n",
    "find_max3_v2(8, 10, 9)"
   ]
  },
  {
   "cell_type": "markdown",
   "metadata": {},
   "source": [
    "### Aula 4"
   ]
  },
  {
   "cell_type": "code",
   "execution_count": null,
   "metadata": {},
   "outputs": [],
   "source": [
    "# Função\n",
    "def soma():\n",
    "    soma = 0\n",
    "    i = 1\n",
    "\n",
    "    soma = soma + i \n",
    "    i = i + 1\n",
    "    soma = soma + i \n",
    "    i = i + 1\n",
    "    soma = soma + i \n",
    "    i = i + 1\n",
    "    soma = soma + i \n",
    "    i = i + 1\n",
    "    soma = soma + i \n",
    "\n",
    "    return soma"
   ]
  },
  {
   "cell_type": "code",
   "execution_count": null,
   "metadata": {},
   "outputs": [],
   "source": [
    "soma()"
   ]
  },
  {
   "cell_type": "code",
   "execution_count": null,
   "metadata": {},
   "outputs": [],
   "source": [
    "def soma(n):\n",
    "    soma = 0\n",
    "    for i in range(n+1):\n",
    "        soma = soma + i\n",
    "    return soma"
   ]
  },
  {
   "cell_type": "code",
   "execution_count": null,
   "metadata": {},
   "outputs": [],
   "source": [
    "soma(1000)"
   ]
  },
  {
   "cell_type": "code",
   "execution_count": null,
   "metadata": {},
   "outputs": [],
   "source": [
    "def soma(n):\n",
    "    soma = 0\n",
    "    i = 1\n",
    "    while i <= n:\n",
    "        soma = soma + i\n",
    "        i = i + 1\n",
    "    return soma"
   ]
  },
  {
   "cell_type": "code",
   "execution_count": null,
   "metadata": {},
   "outputs": [],
   "source": [
    "soma(1000)"
   ]
  },
  {
   "cell_type": "markdown",
   "metadata": {},
   "source": [
    "### Aula 5"
   ]
  },
  {
   "cell_type": "code",
   "execution_count": null,
   "metadata": {},
   "outputs": [],
   "source": [
    "def somaRec(n):\n",
    "    if n > 0:\n",
    "        soma = somaRec(n - 1) + n\n",
    "    else:\n",
    "        soma = 0\n",
    "    return soma"
   ]
  },
  {
   "cell_type": "code",
   "execution_count": null,
   "metadata": {},
   "outputs": [],
   "source": [
    "somaRec(1000)"
   ]
  },
  {
   "cell_type": "markdown",
   "metadata": {},
   "source": [
    "### Aula 6"
   ]
  },
  {
   "cell_type": "code",
   "execution_count": null,
   "metadata": {},
   "outputs": [],
   "source": [
    "# Programa Python para pesquisa binária recursiva.\n",
    "  \n",
    "# Retorna o índice de x no vetor se x estiver presente, caso contrário -1\n",
    "def pesquisaBinaria (vetor, primeira_pos, ultima_pos, x): \n",
    "  \n",
    "    # Verifica se a última posição do vetor é maior ou igual a 1 para garantir \n",
    "    # que tenhamos um vetor de comprimento maior que zero\n",
    "    if ultima_pos >= primeira_pos: \n",
    "  \n",
    "        meio = primeira_pos + (ultima_pos - primeira_pos) // 2\n",
    "  \n",
    "        # Se o elemento estiver presente no meio em si\n",
    "        if vetor[meio] == x: \n",
    "            return meio \n",
    "          \n",
    "        # Se o elemento for menor que o meio, ele poderá estar presente apenas no sub-vetor esquerdo\n",
    "        elif vetor[meio] > x: \n",
    "            return pesquisaBinaria(vetor, primeira_pos, meio-1, x) \n",
    "  \n",
    "        # Senão, o elemento pode estar presente apenas no sub-vetor direito\n",
    "        else: \n",
    "            return pesquisaBinaria(vetor, meio + 1, ultima_pos, x) \n",
    "  \n",
    "    else: \n",
    "        # O elemento não está presente na matriz\n",
    "        return -1\n",
    "  \n",
    "# Vetor de teste\n",
    "listaNum = [ 12, 13, 40, 56, 93 ] \n",
    "x = 56\n",
    "  \n",
    "# Chamada da função\n",
    "resultado = pesquisaBinaria(listaNum, 0, len(listaNum)-1, x) \n",
    "  \n",
    "if resultado != -1: \n",
    "    print (\"O elemento está presente no índice %d!\" % resultado)\n",
    "else: \n",
    "    print (\"O elemento não está presente no vetor!\")"
   ]
  },
  {
   "cell_type": "markdown",
   "metadata": {},
   "source": [
    "### Exercício Aula 6"
   ]
  },
  {
   "cell_type": "code",
   "execution_count": null,
   "metadata": {},
   "outputs": [],
   "source": [
    "# Função principal do programa\n",
    "def main():\n",
    "    \n",
    "    # Lista fora de ordem\n",
    "    autores = ['Monteiro Lobato', 'José de Alencar', 'Cecília Meireles', 'Carlos Drummond de Andrade',\n",
    "               'Machado de Assis', 'Clarice Lispector', 'Graciliano Ramos',\n",
    "               'Guimarães Rosa', 'Ruth Rocha', 'Luis Fernando Veríssimo']\n",
    "    \n",
    "    # Lista ordenada\n",
    "    autores_ordenados = sorted(autores)\n",
    "\n",
    "    # Solicita que o usuário digite o nome do autor\n",
    "    autor = input('Digite o nome do autor para pesquisar na lista: ')\n",
    "    \n",
    "    # Grava a posição retornada pela pesquisa binária\n",
    "    position = binary_search(autores_ordenados, autor)\n",
    "    \n",
    "    # Imprime mensagem de acordo com o resultado da pesquisa binária\n",
    "    print(\"\\nLista Ordenada de Autores: \\n\")\n",
    "    print(autores_ordenados)\n",
    "    if position == -1:\n",
    "        print(\"\\n\")\n",
    "        print(\"Desculpe, mas esse autor não faz parte da lista.\")\n",
    "    else:\n",
    "        print(\"\\n\")\n",
    "        print(autor, \"é parte da lista e está na posição\", position + 1, \"( equivalente ao índice\", position, \") na lista ordenada de autores.\")\n",
    "\n",
    "# Função para a pesquisa binária\n",
    "def binary_search(autores_ordenados, autor):\n",
    "    \n",
    "    # Variáveis de controle\n",
    "    primeiro_elemento = 0\n",
    "    ultimo_elemento = len(autores_ordenados) - 1\n",
    "    position = -1\n",
    "    achei = False\n",
    "\n",
    "    # Loop\n",
    "    while not achei and primeiro_elemento <= ultimo_elemento:\n",
    "        \n",
    "        # Calcula o meio\n",
    "        meio = (primeiro_elemento + ultimo_elemento) // 2\n",
    "\n",
    "        # Verifica o meio e compara os elementos\n",
    "        if autores_ordenados[meio] == autor:\n",
    "            achei = True\n",
    "            position = meio\n",
    "        elif autores_ordenados[meio] > autor:\n",
    "            ultimo_elemento = meio - 1\n",
    "        else:\n",
    "            primeiro_elemento = meio + 1\n",
    "\n",
    "    return position\n",
    "\n",
    "# Executa o programa\n",
    "main()"
   ]
  },
  {
   "cell_type": "markdown",
   "metadata": {},
   "source": [
    "### Aula 7"
   ]
  },
  {
   "cell_type": "code",
   "execution_count": null,
   "metadata": {},
   "outputs": [],
   "source": [
    "# Ordenação por Bolha\n",
    "def bubble_sort(lista):\n",
    "    \n",
    "    # Função que realiza a troca dos elementos\n",
    "    def troca(i, j):\n",
    "        lista[i], lista[j] = lista[j], lista[i]\n",
    "\n",
    "    n = len(lista)\n",
    "    trocado = True\n",
    "    \n",
    "    x = -1\n",
    "    while trocado:\n",
    "        trocado = False\n",
    "        x = x + 1\n",
    "        for i in range(1, n - x):\n",
    "            if lista[i - 1] > lista[i]:\n",
    "                troca(i - 1, i)\n",
    "                trocado = True\n",
    "                    \n",
    "    return lista\n",
    "\n",
    "# Lista não ordenada\n",
    "listaNum = [9, 3, 5, 4, 6, 2, 7, 1, 8]\n",
    "\n",
    "# Ordenada a lista\n",
    "bubble_sort(listaNum)"
   ]
  },
  {
   "cell_type": "markdown",
   "metadata": {},
   "source": [
    "### Aula 8"
   ]
  },
  {
   "cell_type": "code",
   "execution_count": null,
   "metadata": {},
   "outputs": [],
   "source": [
    "# Cria um dicionáro vazio\n",
    "dicionario = dict()\n",
    "\n",
    "# Adiciona pares de chaves/valores ao dicionário\n",
    "# As letras são as chaves e os números os valores\n",
    "dicionario['a'] = 1\n",
    "dicionario['b'] = 2\n",
    "dicionario['c'] = 3\n",
    "\n",
    "# Podemos imprimir o dicionário\n",
    "print(dicionario)\n",
    "\n",
    "# Ou imprimir um valor com base em sua chave\n",
    "print(dicionario['b'])\n",
    "\n",
    "# Podemos usar um loop e imprimir as chaves\n",
    "for chave in dicionario.keys():\n",
    "    print(dicionario[chave])\n",
    "\n",
    "# Podemos usar um loop e imprimir os pares chave/valor\n",
    "for chave, valor in dicionario.items():\n",
    "    print (chave,':', valor)"
   ]
  },
  {
   "cell_type": "code",
   "execution_count": null,
   "metadata": {},
   "outputs": [],
   "source": [
    "chaves = ['a', 'b', 'c']\n",
    "valores = [1, 2, 3]\n",
    "hash = {k:v for k, v in zip(chaves, valores)}\n",
    "print(hash)\n",
    "type(hash)"
   ]
  },
  {
   "cell_type": "markdown",
   "metadata": {},
   "source": [
    "### Aula 9"
   ]
  },
  {
   "cell_type": "code",
   "execution_count": null,
   "metadata": {},
   "outputs": [],
   "source": [
    "# Criação do Grafo e implementação do Algoritmo BFS\n",
    "\n",
    "# Função para criar um grafo padrão\n",
    "from collections import defaultdict \n",
    "  \n",
    "# Esta classe representa um grafo direcionado\n",
    "# usando representação de lista de adjacências \n",
    "class Grafo: \n",
    "  \n",
    "    # Construtor \n",
    "    def __init__(self): \n",
    "  \n",
    "        # Dicionário padrão para armazenar o grafo \n",
    "        self.graph = defaultdict(list) \n",
    "  \n",
    "    # Função para adicionar uma aresta ao grafo\n",
    "    def addEdge(self,u,v): \n",
    "        self.graph[u].append(v) \n",
    "  \n",
    "    # Função para o algoritmo BFS\n",
    "    def BFS(self, s): \n",
    "  \n",
    "        # Marque todos os vértices como não visitados\n",
    "        visited = [False] * (len(self.graph)) \n",
    "  \n",
    "        # Crie uma fila para o BFS\n",
    "        queue = [] \n",
    "  \n",
    "        # Marque o nó de origem s como visitado e inclua na fila\n",
    "        queue.append(s) \n",
    "        visited[s] = True\n",
    "  \n",
    "        while queue: \n",
    "  \n",
    "            # Remova um vértice da fila e imprima\n",
    "            s = queue.pop(0) \n",
    "            print (s, end = \" \") \n",
    "  \n",
    "            # Obter todos os vértices adjacentes do vértices desenfileirados. \n",
    "            # Se um adjacente não foi visitado, marque-o visitado e inclua na fila\n",
    "            for i in self.graph[s]: \n",
    "                if visited[i] == False: \n",
    "                    queue.append(i) \n",
    "                    visited[i] = True\n",
    "  \n",
    "\n",
    "  \n",
    "# Cria uma instância da classe, construindo um grafo com diversas arestas\n",
    "g = Grafo() \n",
    "g.addEdge(0, 1) \n",
    "g.addEdge(0, 2) \n",
    "g.addEdge(1, 2) \n",
    "g.addEdge(2, 0) \n",
    "g.addEdge(2, 3) \n",
    "g.addEdge(3, 3) \n",
    "\n",
    "print (\"Aqui está o caminho a seguir para atravessar o grafo (começando do vértice 2):\") \n",
    "g.BFS(2) "
   ]
  },
  {
   "cell_type": "markdown",
   "metadata": {},
   "source": [
    "### Aula 10"
   ]
  },
  {
   "cell_type": "code",
   "execution_count": null,
   "metadata": {},
   "outputs": [],
   "source": [
    "# Função para o algoritmo Backtracking\n",
    "def permuta(combinacoes, lista):\n",
    "    \n",
    "    # Verificamos se o número de combinações é igual a 1\n",
    "    # e retornamos a própria lista, pois não há combinações a fazer\n",
    "    if combinacoes == 1:\n",
    "        return lista\n",
    "    \n",
    "    # Se quisermos mais de 1 combinação dos elementos, começamos a recursão\n",
    "    else:\n",
    "        \n",
    "        # Usamos list comprehension com recursão\n",
    "        return [ y + x for y in permuta(1, lista) for x in permuta(combinacoes - 1, lista) ]\n",
    "\n",
    "# Executa a função buscando diferentes combinações e aplicando a técnica de Backtracking\n",
    "print(permuta(1, [\"a\",\"b\",\"c\"]))\n",
    "print(permuta(2, [\"a\",\"b\",\"c\"]))\n",
    "print(permuta(3, [\"a\",\"b\",\"c\"]))"
   ]
  },
  {
   "cell_type": "markdown",
   "metadata": {},
   "source": [
    "### Aula 11"
   ]
  },
  {
   "cell_type": "code",
   "execution_count": null,
   "metadata": {},
   "outputs": [],
   "source": [
    "# Algoritmo guloso que busca a melhor combinação de alimentos para uma dieta de 1000 calorias.\n",
    "\n",
    "# Classe para armazenar os alimentos\n",
    "class Alimentos(object):\n",
    "    \n",
    "    # Construtor\n",
    "    def __init__(self, n, v, c):\n",
    "        \n",
    "        # Nome do alimento\n",
    "        self.nome = n\n",
    "        \n",
    "        # Valor do alimento em Reais\n",
    "        self.valor = v\n",
    "        \n",
    "        # Número de calorias do alimento\n",
    "        self.calorias = c\n",
    "        \n",
    "    # Método para obter o valor de cada alimento  \n",
    "    def getValor(self):\n",
    "        return self.valor\n",
    "        \n",
    "    # Método para obter o custo (1 dividido pelo número de calorias, calculado mais abaixo. Aqui retornamos apenas as calorias)   \n",
    "    def getCusto(self):\n",
    "        return self.calorias\n",
    "  \n",
    "    # Método para imprimir nome/valor/calorias\n",
    "    def __str__(self):\n",
    "        return self.nome + ': <' + str(self.valor) + ', ' + str(self.calorias) + '>'\n",
    "\n",
    "\n",
    "# Cria o Menu com a lista de alimentos\"\n",
    "def criaMenu(nomes, valores, calorias):\n",
    "    \n",
    "    # Cria a lista vazia\n",
    "    menu = []\n",
    "    \n",
    "    # De acordo com o tamanho da lista de valores, inserimos todos os itens na lista de menu\n",
    "    for i in range(len(valores)):\n",
    "        menu.append(Alimentos(nomes[i], valores[i], calorias[i]))\n",
    "    return menu\n",
    "    \n",
    "\n",
    "# Algoritmo Guloso\n",
    "def greedy(items, maxCost, keyFunction):\n",
    "    \n",
    "    # Copia todos os itens\n",
    "    itemsCopy = sorted(items, key = keyFunction, reverse = True)\n",
    "    \n",
    "    # Lista de resultados\n",
    "    resultado = []\n",
    "    \n",
    "    # Valor total\n",
    "    totalValor = 0\n",
    "    \n",
    "    # Custo total\n",
    "    totalCusto = 0.0\n",
    "    \n",
    "    # De acordo com o tamanho da lista de itens, realiza os seguintes cálculos\n",
    "    for i in range(len(itemsCopy)):\n",
    "        if (totalCusto + itemsCopy[i].getCusto()) <= maxCost:\n",
    "            \n",
    "            # adiciona os itens a lista de resultados\n",
    "            resultado.append(itemsCopy[i])\n",
    "            \n",
    "            # Calcula o custo total\n",
    "            totalCusto += itemsCopy[i].getCusto()\n",
    "            \n",
    "            # Calcula o valor total\n",
    "            totalValor += itemsCopy[i].getValor()\n",
    "            \n",
    "    return (resultado, totalValor)     \n",
    "    \n",
    "# Função para executar o algoritmo guloso\n",
    "def executaGreedy(items, constraint, keyFunction):\n",
    "    result, val = greedy(items, constraint, keyFunction)\n",
    "    print('Valor Total dos Itens para 1000 calorias =', val)\n",
    "    for item in result:\n",
    "        print(item)\n",
    "\n",
    "# Função que gera o melhor cardápio pelo valor individual dos alimentos e pelo custo dos alimentos\n",
    "def geraCardapio(alimentos, totCalorias):\n",
    "    \n",
    "    print('Usando o algoritmo guloso para buscar o melhor menu pelo valor dos alimentos para', totCalorias, 'calorias')\n",
    "    executaGreedy(alimentos, totCalorias, Alimentos.getValor)\n",
    "    \n",
    "    print('\\nUsando o algoritmo guloso para buscar o melhor menu pelo custo dos alimentos para', totCalorias, 'calorias')\n",
    "    executaGreedy(alimentos, totCalorias, lambda x: 1/Alimentos.getCusto(x))\n",
    "\n",
    "    \n",
    "# Listas para testar o algoritmo\n",
    "listaAlimentos = ['Frango', 'Milk Shake', 'Pizza', 'Hamburger', 'Batata Frita', 'Refrigerante', 'Maça', 'Laranja', 'Cenoura', \"Alface\"]\n",
    "valores = [79, 18, 45, 38, 25, 9, 15, 10, 22, 12]\n",
    "calorias = [114, 156, 359, 354, 365, 153, 97, 82, 79, 40]\n",
    "\n",
    "\n",
    "# Cria o menu\n",
    "menu_alimentos = criaMenu(listaAlimentos, valores, calorias)\n",
    "\n",
    "\n",
    "# Busca o melhor menu para o consumo de 1000 calorias\n",
    "geraCardapio(menu_alimentos, 1000) "
   ]
  },
  {
   "cell_type": "markdown",
   "metadata": {},
   "source": [
    "### Aula 12"
   ]
  },
  {
   "cell_type": "code",
   "execution_count": null,
   "metadata": {},
   "outputs": [],
   "source": [
    "# Imagine que você receba uma string como esta:\n",
    "    \n",
    "# marceloachaqueoclimapodemudar\n",
    "\n",
    "# E seu trabalho é produzir uma saída como esta:\n",
    "    \n",
    "# marcelo acha que o clima pode mudar\n",
    "\n",
    "# Como você resolveria esse problema? A Programação Dinâmica pode nos ajudar!\n",
    "    \n",
    "    \n",
    "\n",
    "# Programação Dinâmica - Partição de Strings\n",
    "\n",
    "# Input: marceloachaqueoclimapodemudar\n",
    "# Output: marcelo acha que o clima pode mudar \n",
    "\n",
    "# Dicionário com as palavras disponíveis\n",
    "dicionario = {\n",
    "    \"acha\": True,\n",
    "    \"que\": True,\n",
    "    \"o\": True,\n",
    "    \"clima\": True,\n",
    "    \"pode\": True,\n",
    "    \"mudar\": True\n",
    "}\n",
    "\n",
    "# Função de custo\n",
    "def calculaCusto(palavra):\n",
    "    \"\"\"Avalia o custo de uma determinada palavra. \n",
    "    Retorna 0 se a palavra estiver no dicionário, ou o número de caracteres caso contrário.\n",
    "    \n",
    "    Argumentos:\n",
    "        palavra (string): uma palavra cujo custo precisa ser avaliado.\n",
    "    \n",
    "    Retorno:\n",
    "        O custo da palavra (int).\n",
    "    \"\"\"\n",
    "    if palavra in dicionario:\n",
    "        return 0\n",
    "    else:\n",
    "        return len(palavra)\n",
    "\n",
    "# O cache para memorizar soluções parciais\n",
    "# Aqui está a grande diferença da Programação Dinâmica, uma espécie de \"memória\" para armazenar soluções parciais\n",
    "cache = {}\n",
    "\n",
    "# Função para dividir a string de input\n",
    "def divideString(input_string, inicio_index):\n",
    "    \"\"\"Esta função recursiva, tenta dividir a substring começando em 'inicio_index' em partições, ou seja, palavras!\n",
    "    \n",
    "    Argumentos:\n",
    "        input_string (string): a string inicial que precisa ser dividida.\n",
    "        inicio_index (int): queremos dividir a substring de input_string começando nesse índice\n",
    "    \n",
    "    Retorno:\n",
    "        Uma forma de tupla da solução parcial e seu custo\n",
    "    \"\"\"\n",
    "    \n",
    "    # Já calculamos a solução ideal a partir do ponto\n",
    "    if inicio_index in cache:\n",
    "        return cache[inicio_index]\n",
    "\n",
    "    # A substring para dividir\n",
    "    substring = input_string[inicio_index:]\n",
    "\n",
    "    # Estas são as condições de contorno\n",
    "    # Se a substring estiver vazia, retorne uma string vazia sem nenhum custo\n",
    "    if not len(substring):\n",
    "        return '', 0\n",
    "\n",
    "    min_cost = None\n",
    "    min_string = None\n",
    "\n",
    "    # Colocamos nossa próxima partição em algum lugar entre o início + 1 e o final do input_string\n",
    "    for i in range(1, len(substring) + 1):\n",
    "        \n",
    "        # Dividimos o resto da string recursivamente\n",
    "        rest_string, rest_cost = divideString(input_string, inicio_index + i)\n",
    "\n",
    "        current_string = substring[:i]\n",
    "        current_cost = calculaCusto(current_string) + rest_cost\n",
    "\n",
    "        # Atualiza o custo mínimo e string, se for o melhor até agora\n",
    "        if min_cost is None or current_cost < min_cost:\n",
    "\n",
    "            # Se as duas partes não estiverem vazias, junte-as com espaço\n",
    "            if current_string and rest_string:\n",
    "                min_string = current_string + ' ' + rest_string\n",
    "                \n",
    "                # Adicionamos um custo ao espaço em branco para evitar a divisão de palavras desconhecidas \n",
    "                # em pequenos pedaços\n",
    "                current_cost += 1\n",
    "            else:\n",
    "                min_string = current_string + rest_string\n",
    "\n",
    "            min_cost = current_cost\n",
    "\n",
    "    cache[inicio_index] = min_string, min_cost\n",
    "    return min_string, min_cost"
   ]
  },
  {
   "cell_type": "code",
   "execution_count": null,
   "metadata": {},
   "outputs": [],
   "source": [
    "# Executa a função começando do índice 0\n",
    "print(divideString(\"marceloachaqueoclimapodemudar\", 0))"
   ]
  },
  {
   "cell_type": "code",
   "execution_count": null,
   "metadata": {},
   "outputs": [],
   "source": [
    "# Executa a função começando do índice 7\n",
    "print(divideString(\"marceloachaqueoclimapodemudar\", 7))"
   ]
  },
  {
   "cell_type": "code",
   "execution_count": null,
   "metadata": {},
   "outputs": [],
   "source": [
    "# Executa a função começando do índice 11\n",
    "print(divideString(\"marceloachaqueoclimapodemudar\", 11))"
   ]
  },
  {
   "cell_type": "markdown",
   "metadata": {},
   "source": [
    "### Aula 14"
   ]
  },
  {
   "cell_type": "code",
   "execution_count": null,
   "metadata": {},
   "outputs": [],
   "source": [
    "# Pacotes para computação e matemática\n",
    "import numpy as np\n",
    "import math\n",
    "\n",
    "# Classe para a função de Ativação Sigmoide\n",
    "class Sigmoide():\n",
    "    def __call__(self, x):\n",
    "        return 1 / (1 + np.exp(-x))\n",
    "\n",
    "# Algoritmo de Machine Learning - Regressão Logística\n",
    "class RegressaoLogistica():\n",
    "    \n",
    "    # Construtor da Classe - define os atributos\n",
    "    def __init__(self, learning_rate = .1, gradient_descent = True):\n",
    "        self.param = None\n",
    "        self.learning_rate = learning_rate\n",
    "        self.gradient_descent = gradient_descent\n",
    "        self.sigmoid = Sigmoide()\n",
    "\n",
    "    # Inicializa os parâmetros\n",
    "    def _inicializa_parametros(self, X):\n",
    "        n_features = np.shape(X)[1]\n",
    "        limit = 1 / math.sqrt(n_features)\n",
    "        self.param = np.random.uniform(-limit, limit, (n_features,))\n",
    "          \n",
    "    # Converte uma matriz x para diagonal a fim de realizar os cálculos\n",
    "    def make_diagonal(x):\n",
    "        m = np.zeros((len(x), len(x)))\n",
    "        for i in range(len(m[0])):\n",
    "            m[i, i] = x[i]\n",
    "        return m    \n",
    "\n",
    "    # Função para o treinamento\n",
    "    # Aqui está o coração do algoritmo, suas operações matemáticas\n",
    "    # Usamos o gradiente descendente a fim de encontrar o melhor valor dos coeficientes,\n",
    "    # aquilo que o modelo aprende no treinamento\n",
    "    def treinamento(self, X, y, n_iterations = 4000):\n",
    "        self._inicializa_parametros(X)\n",
    "        for i in range(n_iterations):\n",
    "            y_pred = self.sigmoid(X.dot(self.param))\n",
    "            if self.gradient_descent:\n",
    "                self.param -= self.learning_rate * -(y - y_pred).dot(X)\n",
    "            else:\n",
    "                diag_gradient = make_diagonal(self.sigmoid.gradient(X.dot(self.param)))\n",
    "                self.param = np.linalg.pinv(X.T.dot(diag_gradient).dot(X)).dot(X.T).dot(diag_gradient.dot(X).dot(self.param) + y - y_pred)\n",
    "\n",
    "    # Método para previsão com o modelo \n",
    "    def previsao(self, X):\n",
    "        y_pred = np.round(self.sigmoid(X.dot(self.param))).astype(int)\n",
    "        return y_pred"
   ]
  },
  {
   "cell_type": "code",
   "execution_count": null,
   "metadata": {},
   "outputs": [],
   "source": [
    "from sklearn.datasets import load_iris\n",
    "import numpy as np\n",
    "\n",
    "# Função para normalizar os dados\n",
    "def normaliza_dados(X, axis=-1, order=2):\n",
    "    l2 = np.atleast_1d(np.linalg.norm(X, order, axis))\n",
    "    l2[l2 == 0] = 1\n",
    "    return X / np.expand_dims(l2, axis)\n",
    "\n",
    "# Função para randomizar os dados\n",
    "def randomiza_dados(X, y, seed=None):\n",
    "    if seed:\n",
    "        np.random.seed(seed)\n",
    "    idx = np.arange(X.shape[0])\n",
    "    np.random.shuffle(idx)\n",
    "    return X[idx], y[idx]\n",
    "\n",
    "# Função para calcular a acurácia\n",
    "def calcula_acuracia(y_true, y_pred):\n",
    "    accuracy = np.sum(y_true == y_pred, axis=0) / len(y_true)\n",
    "    return accuracy\n",
    "\n",
    "# Função para dividir os dados em treino e teste\n",
    "def train_test_split(X, y, test_size=0.5, shuffle=True, seed=None):\n",
    "    if shuffle:\n",
    "        X, y = randomiza_dados(X, y, seed)\n",
    "    split_i = len(y) - int(len(y) // (1 / test_size))\n",
    "    X_train, X_test = X[:split_i], X[split_i:]\n",
    "    y_train, y_test = y[:split_i], y[split_i:]\n",
    "\n",
    "    return X_train, X_test, y_train, y_test\n",
    "\n",
    "# Função para execução do programa\n",
    "def main():\n",
    "    \n",
    "    # Carregar os dados\n",
    "    data = load_iris()\n",
    "    \n",
    "    # Normalizar os dados de entrada\n",
    "    X = normaliza_dados(data.data[data.target != 0])\n",
    "    \n",
    "    # Carregar os dados de saída\n",
    "    y = data.target[data.target != 0]\n",
    "    y[y == 1] = 0\n",
    "    y[y == 2] = 1\n",
    "\n",
    "    # Dividir os dados em treino e teste\n",
    "    X_train, X_test, y_train, y_test = train_test_split(X, y, test_size=0.33, seed=1)\n",
    "\n",
    "    # Definir o modelo\n",
    "    modelo = RegressaoLogistica(gradient_descent=True)\n",
    "    \n",
    "    # Treinar o algoritmo e criar o modelo\n",
    "    modelo.treinamento(X_train, y_train)\n",
    "    \n",
    "    # Usar o modelo treinado para fazer previsões\n",
    "    y_pred = modelo.previsao(X_test)\n",
    "\n",
    "    # Calcular a acurácia comparando valores previstos com valores observados\n",
    "    acuracia = calcula_acuracia(y_test, y_pred)\n",
    "    \n",
    "    # Imprime a acurácia do modelo\n",
    "    print (\"Acurácia do Modelo:\", acuracia)\n",
    "\n",
    " \n",
    "# Executa o programa\n",
    "if __name__ == \"__main__\":\n",
    "    main()"
   ]
  },
  {
   "cell_type": "markdown",
   "metadata": {},
   "source": [
    "### Aula 15"
   ]
  },
  {
   "cell_type": "code",
   "execution_count": null,
   "metadata": {},
   "outputs": [],
   "source": [
    "# Pacotes\n",
    "import math\n",
    "import numpy as np\n",
    "import matplotlib.cm as cmx\n",
    "import matplotlib.pyplot as plt\n",
    "import matplotlib.colors as colors\n",
    "\n",
    "\n",
    "##### Funções Auxiliares #####\n",
    "\n",
    "# Função para normalizar os dados\n",
    "def normaliza_dados(X, axis = -1, order = 2):\n",
    "    l2 = np.atleast_1d(np.linalg.norm(X, order, axis))\n",
    "    l2[l2 == 0] = 1\n",
    "    return X / np.expand_dims(l2, axis)\n",
    "    \n",
    "# Função para calcular a distância euclidiana entre 2 vetores\n",
    "def calcula_distancia_euclidiana(x1, x2):\n",
    "    distance = 0\n",
    "    for i in range(len(x1)):\n",
    "        distance += pow((x1[i] - x2[i]), 2)\n",
    "    return math.sqrt(distance)\n",
    "\n",
    "\n",
    "##### Algoritmo K-means #####\n",
    "\n",
    "\n",
    "# Classe para o algoritmo K-means\n",
    "# Aprendizagem não supervisionada\n",
    "class KMeans():\n",
    "    \n",
    "    # Construtor da classe\n",
    "    def __init__(self, k=3, max_iterations=500):\n",
    "        self.k = k\n",
    "        self.max_iterations = max_iterations\n",
    "\n",
    "    # Inicializa os centróides com k amostras randômicas de x\n",
    "    def _init_random_centroids(self, X):\n",
    "        n_samples, n_features = np.shape(X)\n",
    "        centroids = np.zeros((self.k, n_features))\n",
    "        for i in range(self.k):\n",
    "            centroid = X[np.random.choice(range(n_samples))]\n",
    "            centroids[i] = centroid\n",
    "        return centroids\n",
    "\n",
    "    # Retorna o índice mais próximo do centróide da amostra\n",
    "    def _closest_centroid(self, sample, centroids):\n",
    "        closest_i = 0\n",
    "        closest_dist = float('inf')\n",
    "        for i, centroid in enumerate(centroids):\n",
    "            distance = calcula_distancia_euclidiana(sample, centroid)\n",
    "            if distance < closest_dist:\n",
    "                closest_i = i\n",
    "                closest_dist = distance\n",
    "        return closest_i\n",
    "\n",
    "    # Associa as amostras de dados aos centróides mais próximos para criar os clusters (grupos)\n",
    "    def _create_clusters(self, centroids, X):\n",
    "        n_samples = np.shape(X)[0]\n",
    "        clusters = [[] for _ in range(self.k)]\n",
    "        for sample_i, sample in enumerate(X):\n",
    "            centroid_i = self._closest_centroid(sample, centroids)\n",
    "            clusters[centroid_i].append(sample_i)\n",
    "        return clusters\n",
    "\n",
    "    # Calcula novos centróides como a média das amostras em cada cluster\n",
    "    def _calculate_centroids(self, clusters, X):\n",
    "        n_features = np.shape(X)[1]\n",
    "        centroids = np.zeros((self.k, n_features))\n",
    "        for i, cluster in enumerate(clusters):\n",
    "            centroid = np.mean(X[cluster], axis=0)\n",
    "            centroids[i] = centroid\n",
    "        return centroids\n",
    "\n",
    "    # Classifica as amostras com o índice dos seus clusters\n",
    "    def _get_cluster_labels(self, clusters, X):\n",
    "        y_pred = np.zeros(np.shape(X)[0])\n",
    "        for cluster_i, cluster in enumerate(clusters):\n",
    "            for sample_i in cluster:\n",
    "                y_pred[sample_i] = cluster_i\n",
    "        return y_pred\n",
    "\n",
    "    # Faz a previsão de cada cluster e retorna os índices dos clusters\n",
    "    def predict(self, X):\n",
    "\n",
    "        # Inicializa centróides como k amostras aleatórias de X\n",
    "        centroids = self._init_random_centroids(X)\n",
    "\n",
    "        # Iterar até convergência ou para iterações máximas\n",
    "        for _ in range(self.max_iterations):\n",
    "            \n",
    "            # Atribuir amostras aos centróides mais próximos (criar clusters)\n",
    "            clusters = self._create_clusters(centroids, X)\n",
    "            \n",
    "            # Salvar os centróides atuais para verificação de convergência\n",
    "            prev_centroids = centroids\n",
    "            \n",
    "            # Calcular novos centróides a partir dos clusters\n",
    "            centroids = self._calculate_centroids(clusters, X)\n",
    "            \n",
    "            # Se nenhum centróide mudou => convergência\n",
    "            diff = centroids - prev_centroids\n",
    "            if not diff.any():\n",
    "                break\n",
    "\n",
    "        return self._get_cluster_labels(clusters, X)"
   ]
  },
  {
   "cell_type": "code",
   "execution_count": null,
   "metadata": {},
   "outputs": [],
   "source": [
    "##### Funções Auxiliares Para o PCA #####\n",
    "\n",
    "# Calcula a matriz de co-variância\n",
    "def calculate_covariance_matrix(X, Y=None):\n",
    "    if Y is None:\n",
    "        Y = X\n",
    "    n_samples = np.shape(X)[0]\n",
    "    covariance_matrix = (1 / (n_samples-1)) * (X - X.mean(axis=0)).T.dot(Y - Y.mean(axis=0))\n",
    "\n",
    "    return np.array(covariance_matrix, dtype=float)\n",
    " \n",
    "# Calcula a matriz de correlação\n",
    "def calculate_correlation_matrix(X, Y=None):\n",
    "    if Y is None:\n",
    "        Y = X\n",
    "    n_samples = np.shape(X)[0]\n",
    "    covariance = (1 / n_samples) * (X - X.mean(0)).T.dot(Y - Y.mean(0))\n",
    "    std_dev_X = np.expand_dims(calculate_std_dev(X), 1)\n",
    "    std_dev_y = np.expand_dims(calculate_std_dev(Y), 1)\n",
    "    correlation_matrix = np.divide(covariance, std_dev_X.dot(std_dev_y.T))\n",
    "\n",
    "    return np.array(correlation_matrix, dtype=float)\n",
    "\n",
    "\n",
    "##### Classe Para o Plot dos Clusters em 2D #####\n",
    "\n",
    "\n",
    "# Classe para criar o plot\n",
    "class Plot():\n",
    "    \n",
    "    # Construtor da classe\n",
    "    def __init__(self): \n",
    "        self.cmap = plt.get_cmap('viridis')\n",
    "        \n",
    "    # Função para transformar os dados\n",
    "    def _transform(self, X, dim):\n",
    "        covariance = calculate_covariance_matrix(X)\n",
    "        eigenvalues, eigenvectors = np.linalg.eig(covariance)\n",
    "        idx = eigenvalues.argsort()[::-1]\n",
    "        eigenvalues = eigenvalues[idx][:dim]\n",
    "        eigenvectors = np.atleast_1d(eigenvectors[:, idx])[:, :dim]\n",
    "        X_transformed = X.dot(eigenvectors)\n",
    "\n",
    "        return X_transformed\n",
    "\n",
    "    # Plot do dataset X e seus correspondentes labels y em 2D usando PCA.\n",
    "    def plot_in_2d(self, X, y=None, title=None, accuracy=None, legend_labels=None):\n",
    "        X_transformed = self._transform(X, dim=2)\n",
    "        x1 = X_transformed[:, 0]\n",
    "        x2 = X_transformed[:, 1]\n",
    "        class_distr = []\n",
    "\n",
    "        y = np.array(y).astype(int)\n",
    "\n",
    "        colors = [self.cmap(i) for i in np.linspace(0, 1, len(np.unique(y)))]\n",
    "\n",
    "        # Plot de diferentes distribuições de classe \n",
    "        for i, l in enumerate(np.unique(y)):\n",
    "            _x1 = x1[y == l]\n",
    "            _x2 = x2[y == l]\n",
    "            _y = y[y == l]\n",
    "            class_distr.append(plt.scatter(_x1, _x2, color=colors[i]))\n",
    "\n",
    "        # Plot da legenda\n",
    "        if not legend_labels is None: \n",
    "            plt.legend(class_distr, legend_labels, loc=1)\n",
    "\n",
    "        # Plot do título\n",
    "        if title:\n",
    "            if accuracy:\n",
    "                perc = 100 * accuracy\n",
    "                plt.suptitle(title)\n",
    "                plt.title(\"Acurácia: %.1f%%\" % perc, fontsize=10)\n",
    "            else:\n",
    "                plt.title(title)\n",
    "\n",
    "        # Axis labels\n",
    "        plt.xlabel('Componente Principal 1')\n",
    "        plt.ylabel('Componente Principal 2')\n",
    "\n",
    "        plt.show()"
   ]
  },
  {
   "cell_type": "code",
   "execution_count": null,
   "metadata": {},
   "outputs": [],
   "source": [
    "##### Execução do Programa #####\n",
    "\n",
    "from sklearn.datasets import make_blobs\n",
    "\n",
    "# Função para execução principal do programa\n",
    "def main():\n",
    "    \n",
    "    # Carrega o dataset\n",
    "    X, y = make_blobs()\n",
    "\n",
    "    # Executa o algoritmo para k = 3\n",
    "    clf = KMeans(k = 3)\n",
    "    y_pred = clf.predict(X)\n",
    "\n",
    "    # Projeta os dados com 2 componentes principais \n",
    "    p = Plot()\n",
    "    p.plot_in_2d(X, y_pred, title = \"Segmentação de Clientes com K-Means\")\n",
    "\n",
    "\n",
    "if __name__ == \"__main__\":\n",
    "    main()"
   ]
  },
  {
   "cell_type": "markdown",
   "metadata": {},
   "source": [
    "### Fim"
   ]
  }
 ],
 "metadata": {
  "kernelspec": {
   "display_name": "Python 3 (ipykernel)",
   "language": "python",
   "name": "python3"
  },
  "language_info": {
   "codemirror_mode": {
    "name": "ipython",
    "version": 3
   },
   "file_extension": ".py",
   "mimetype": "text/x-python",
   "name": "python",
   "nbconvert_exporter": "python",
   "pygments_lexer": "ipython3",
   "version": "3.10.6"
  }
 },
 "nbformat": 4,
 "nbformat_minor": 2
}
