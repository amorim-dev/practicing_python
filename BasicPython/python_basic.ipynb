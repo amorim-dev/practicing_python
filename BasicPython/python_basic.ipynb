{
 "cells": [
  {
   "cell_type": "markdown",
   "id": "e8628edb",
   "metadata": {},
   "source": [
    "# Practicing python"
   ]
  },
  {
   "cell_type": "markdown",
   "id": "6f6affc1",
   "metadata": {},
   "source": [
    "- The Python Language Reference: https://docs.python.org/3/reference/index.html#reference-index\n",
    "- The Python Standard Library: https://docs.python.org/3/library/\n",
    "\n",
    "## Index\n",
    "- Convert string in a list and a list in a string\n",
    "\n",
    "## To add\n",
    "- Working with placeholders or f-string and dictionaries and dates  "
   ]
  },
  {
   "cell_type": "markdown",
   "id": "484da882",
   "metadata": {},
   "source": [
    "## Working with strings and lists"
   ]
  },
  {
   "cell_type": "code",
   "execution_count": 16,
   "id": "c62e4fa0",
   "metadata": {},
   "outputs": [
    {
     "name": "stdout",
     "output_type": "stream",
     "text": [
      "['Convert', 'a', 'list', 'in', 'a', 'string']\n",
      "Convert a list in a string\n"
     ]
    }
   ],
   "source": [
    "# Convert a list in a string using join\n",
    "lst = ['Convert', 'a', 'list', 'in', 'a', 'string']\n",
    "print(lst)\n",
    "string_lst = ' '.join(lst)\n",
    "print(string_lst)"
   ]
  },
  {
   "cell_type": "code",
   "execution_count": 19,
   "id": "d42d832f",
   "metadata": {},
   "outputs": [
    {
     "name": "stdout",
     "output_type": "stream",
     "text": [
      "['Convert', 'a', 'string', 'in', 'a', 'list']\n"
     ]
    }
   ],
   "source": [
    "# Convert a string in a list\n",
    "string2 = 'Convert a string in a list'\n",
    "lst2 = string2.split()\n",
    "print(lst2)"
   ]
  },
  {
   "cell_type": "code",
   "execution_count": null,
   "id": "b8cbc18b",
   "metadata": {},
   "outputs": [],
   "source": []
  }
 ],
 "metadata": {
  "kernelspec": {
   "display_name": "Python 3 (ipykernel)",
   "language": "python",
   "name": "python3"
  },
  "language_info": {
   "codemirror_mode": {
    "name": "ipython",
    "version": 3
   },
   "file_extension": ".py",
   "mimetype": "text/x-python",
   "name": "python",
   "nbconvert_exporter": "python",
   "pygments_lexer": "ipython3",
   "version": "3.8.13"
  }
 },
 "nbformat": 4,
 "nbformat_minor": 5
}
